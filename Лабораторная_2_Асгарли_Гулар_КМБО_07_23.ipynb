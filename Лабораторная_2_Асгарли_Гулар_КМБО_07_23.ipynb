{
  "nbformat": 4,
  "nbformat_minor": 0,
  "metadata": {
    "kernelspec": {
      "display_name": "Python 3",
      "language": "python",
      "name": "python3"
    },
    "language_info": {
      "codemirror_mode": {
        "name": "ipython",
        "version": 3
      },
      "file_extension": ".py",
      "mimetype": "text/x-python",
      "name": "python",
      "nbconvert_exporter": "python",
      "pygments_lexer": "ipython3",
      "version": "3.7.6"
    },
    "colab": {
      "provenance": [],
      "include_colab_link": true
    }
  },
  "cells": [
    {
      "cell_type": "markdown",
      "metadata": {
        "id": "view-in-github",
        "colab_type": "text"
      },
      "source": [
        "<a href=\"https://colab.research.google.com/github/gulyaaa18/gulyaaa/blob/main/%D0%9B%D0%B0%D0%B1%D0%BE%D1%80%D0%B0%D1%82%D0%BE%D1%80%D0%BD%D0%B0%D1%8F_2_%D0%90%D1%81%D0%B3%D0%B0%D1%80%D0%BB%D0%B8_%D0%93%D1%83%D0%BB%D0%B0%D1%80_%D0%9A%D0%9C%D0%91%D0%9E_07_23.ipynb\" target=\"_parent\"><img src=\"https://colab.research.google.com/assets/colab-badge.svg\" alt=\"Open In Colab\"/></a>"
      ]
    },
    {
      "cell_type": "code",
      "metadata": {
        "id": "exFkotWz7Lk_"
      },
      "source": [
        "%load_ext sql\n",
        "%sql sqlite:///store.db\n"
      ],
      "execution_count": null,
      "outputs": []
    },
    {
      "cell_type": "code",
      "source": [
        "%%sql\n",
        "SELECT name FROM sqlite_master WHERE type='table';"
      ],
      "metadata": {
        "id": "O7MqEcWciQHD",
        "colab": {
          "base_uri": "https://localhost:8080/",
          "height": 331
        },
        "outputId": "c4a5ffd4-4a8c-4901-e6f6-593ec4153898"
      },
      "execution_count": null,
      "outputs": [
        {
          "output_type": "stream",
          "name": "stdout",
          "text": [
            " * sqlite:///store.db\n",
            "Done.\n"
          ]
        },
        {
          "output_type": "execute_result",
          "data": {
            "text/plain": [
              "[('albums',),\n",
              " ('sqlite_sequence',),\n",
              " ('artists',),\n",
              " ('genres',),\n",
              " ('invoice_items',),\n",
              " ('media_types',),\n",
              " ('playlists',),\n",
              " ('playlist_track',),\n",
              " ('tracks',),\n",
              " ('invoices',),\n",
              " ('customers',),\n",
              " ('employees',)]"
            ],
            "text/html": [
              "<table>\n",
              "    <thead>\n",
              "        <tr>\n",
              "            <th>name</th>\n",
              "        </tr>\n",
              "    </thead>\n",
              "    <tbody>\n",
              "        <tr>\n",
              "            <td>albums</td>\n",
              "        </tr>\n",
              "        <tr>\n",
              "            <td>sqlite_sequence</td>\n",
              "        </tr>\n",
              "        <tr>\n",
              "            <td>artists</td>\n",
              "        </tr>\n",
              "        <tr>\n",
              "            <td>genres</td>\n",
              "        </tr>\n",
              "        <tr>\n",
              "            <td>invoice_items</td>\n",
              "        </tr>\n",
              "        <tr>\n",
              "            <td>media_types</td>\n",
              "        </tr>\n",
              "        <tr>\n",
              "            <td>playlists</td>\n",
              "        </tr>\n",
              "        <tr>\n",
              "            <td>playlist_track</td>\n",
              "        </tr>\n",
              "        <tr>\n",
              "            <td>tracks</td>\n",
              "        </tr>\n",
              "        <tr>\n",
              "            <td>invoices</td>\n",
              "        </tr>\n",
              "        <tr>\n",
              "            <td>customers</td>\n",
              "        </tr>\n",
              "        <tr>\n",
              "            <td>employees</td>\n",
              "        </tr>\n",
              "    </tbody>\n",
              "</table>"
            ]
          },
          "metadata": {},
          "execution_count": 2
        }
      ]
    },
    {
      "cell_type": "markdown",
      "metadata": {
        "id": "eEAq-gUB7LlF"
      },
      "source": [
        "## Задание 1\n",
        "Вывести 5 самых больших по размеру (в байтах) треков жанра Blues и формата MPEG. Только название и размер.\n"
      ]
    },
    {
      "cell_type": "code",
      "source": [
        "%%sql\n",
        "SELECT tracks.Name, Bytes FROM tracks\n",
        "JOIN  genres ON genres.genreId = tracks.genreid\n",
        "WHERE genres.name = 'Blues' AND MediaTypeId = 3\n",
        "ORDER BY Bytes DESC\n",
        "LIMIT 5;"
      ],
      "metadata": {
        "id": "x3il7qiGiS1q",
        "colab": {
          "base_uri": "https://localhost:8080/",
          "height": 182
        },
        "outputId": "50e94bbd-b87d-4cad-ffa6-6979290729e0"
      },
      "execution_count": null,
      "outputs": [
        {
          "output_type": "stream",
          "name": "stdout",
          "text": [
            " * sqlite:///store.db\n",
            "Done.\n"
          ]
        },
        {
          "output_type": "execute_result",
          "data": {
            "text/plain": [
              "[('Old Love', 15780747),\n",
              " ('Running On Faith', 12536275),\n",
              " ('Lonely Stranger', 10894406),\n",
              " ('Layla', 9490542),\n",
              " ('Tears In Heaven', 9032835)]"
            ],
            "text/html": [
              "<table>\n",
              "    <thead>\n",
              "        <tr>\n",
              "            <th>Name</th>\n",
              "            <th>Bytes</th>\n",
              "        </tr>\n",
              "    </thead>\n",
              "    <tbody>\n",
              "        <tr>\n",
              "            <td>Old Love</td>\n",
              "            <td>15780747</td>\n",
              "        </tr>\n",
              "        <tr>\n",
              "            <td>Running On Faith</td>\n",
              "            <td>12536275</td>\n",
              "        </tr>\n",
              "        <tr>\n",
              "            <td>Lonely Stranger</td>\n",
              "            <td>10894406</td>\n",
              "        </tr>\n",
              "        <tr>\n",
              "            <td>Layla</td>\n",
              "            <td>9490542</td>\n",
              "        </tr>\n",
              "        <tr>\n",
              "            <td>Tears In Heaven</td>\n",
              "            <td>9032835</td>\n",
              "        </tr>\n",
              "    </tbody>\n",
              "</table>"
            ]
          },
          "metadata": {},
          "execution_count": 14
        }
      ]
    },
    {
      "cell_type": "markdown",
      "metadata": {
        "id": "IwJ_E91n7LlD"
      },
      "source": [
        "## Задание 2\n",
        "Вывести названия всех треков и их исполнителей для всех треков жанра Rock, приобретенных сотрудниками Oracle.\n"
      ]
    },
    {
      "cell_type": "code",
      "source": [
        "%%sql\n",
        "SELECT tracks.Name AS trackName, artists.Name as ArtistName -- , customers.CustomerId AS CusId\n",
        "FROM tracks\n",
        "-- Сначала вытащим исполнителя\n",
        "JOIN albums ON tracks.AlbumId = albums.AlbumId -- Объединяем айдишники альбомов\n",
        "JOIN artists ON albums.ArtistId = artists.ArtistId -- Объединяем айдишники с исполнителями\n",
        "-- Теперь вытащим всех сотрудников Oracle\n",
        "JOIN invoice_items ON invoice_items.TrackId = tracks.TrackId\n",
        "JOIN invoices ON invoice_items.InvoiceId = invoices.InvoiceId\n",
        "JOIN customers ON invoices.CustomerId = customers.CustomerId\n",
        "JOIN  genres ON genres.genreId = tracks.genreid\n",
        "WHERE genres.name = 'Rock'  AND\n",
        "customers.Company = 'Oracle'"
      ],
      "metadata": {
        "colab": {
          "base_uri": "https://localhost:8080/",
          "height": 438
        },
        "id": "XnalhLOMJ0BD",
        "outputId": "ca63e3df-2a69-4549-c39d-487edaee7280"
      },
      "execution_count": null,
      "outputs": [
        {
          "output_type": "stream",
          "name": "stdout",
          "text": [
            " * sqlite:///store.db\n",
            "Done.\n"
          ]
        },
        {
          "output_type": "execute_result",
          "data": {
            "text/plain": [
              "[('Sunday Bloody Sunday', 'U2'),\n",
              " (\"New Year's Day\", 'U2'),\n",
              " (\"That's The Way\", 'Led Zeppelin'),\n",
              " ('Ten Years Gone', 'Led Zeppelin'),\n",
              " ('Achilles Last Stand', 'Led Zeppelin'),\n",
              " ('Tea For One', 'Led Zeppelin'),\n",
              " ('No Quarter', 'Led Zeppelin'),\n",
              " ('Bad Moon Rising', 'Creedence Clearwater Revival'),\n",
              " ('Down On The Corner', 'Creedence Clearwater Revival'),\n",
              " ('Up Around The Bend', 'Creedence Clearwater Revival'),\n",
              " ('Nothing To Say', 'Soundgarden'),\n",
              " ('A Kind Of Magic', 'Queen'),\n",
              " ('I Want To Break Free', 'Queen'),\n",
              " ('Who Wants To Live Forever', 'Queen'),\n",
              " ('The Invisible Man', 'Queen'),\n",
              " ('The Three Sunrises', 'U2'),\n",
              " ('Sweetest Thing', 'U2')]"
            ],
            "text/html": [
              "<table>\n",
              "    <thead>\n",
              "        <tr>\n",
              "            <th>trackName</th>\n",
              "            <th>ArtistName</th>\n",
              "        </tr>\n",
              "    </thead>\n",
              "    <tbody>\n",
              "        <tr>\n",
              "            <td>Sunday Bloody Sunday</td>\n",
              "            <td>U2</td>\n",
              "        </tr>\n",
              "        <tr>\n",
              "            <td>New Year&#x27;s Day</td>\n",
              "            <td>U2</td>\n",
              "        </tr>\n",
              "        <tr>\n",
              "            <td>That&#x27;s The Way</td>\n",
              "            <td>Led Zeppelin</td>\n",
              "        </tr>\n",
              "        <tr>\n",
              "            <td>Ten Years Gone</td>\n",
              "            <td>Led Zeppelin</td>\n",
              "        </tr>\n",
              "        <tr>\n",
              "            <td>Achilles Last Stand</td>\n",
              "            <td>Led Zeppelin</td>\n",
              "        </tr>\n",
              "        <tr>\n",
              "            <td>Tea For One</td>\n",
              "            <td>Led Zeppelin</td>\n",
              "        </tr>\n",
              "        <tr>\n",
              "            <td>No Quarter</td>\n",
              "            <td>Led Zeppelin</td>\n",
              "        </tr>\n",
              "        <tr>\n",
              "            <td>Bad Moon Rising</td>\n",
              "            <td>Creedence Clearwater Revival</td>\n",
              "        </tr>\n",
              "        <tr>\n",
              "            <td>Down On The Corner</td>\n",
              "            <td>Creedence Clearwater Revival</td>\n",
              "        </tr>\n",
              "        <tr>\n",
              "            <td>Up Around The Bend</td>\n",
              "            <td>Creedence Clearwater Revival</td>\n",
              "        </tr>\n",
              "        <tr>\n",
              "            <td>Nothing To Say</td>\n",
              "            <td>Soundgarden</td>\n",
              "        </tr>\n",
              "        <tr>\n",
              "            <td>A Kind Of Magic</td>\n",
              "            <td>Queen</td>\n",
              "        </tr>\n",
              "        <tr>\n",
              "            <td>I Want To Break Free</td>\n",
              "            <td>Queen</td>\n",
              "        </tr>\n",
              "        <tr>\n",
              "            <td>Who Wants To Live Forever</td>\n",
              "            <td>Queen</td>\n",
              "        </tr>\n",
              "        <tr>\n",
              "            <td>The Invisible Man</td>\n",
              "            <td>Queen</td>\n",
              "        </tr>\n",
              "        <tr>\n",
              "            <td>The Three Sunrises</td>\n",
              "            <td>U2</td>\n",
              "        </tr>\n",
              "        <tr>\n",
              "            <td>Sweetest Thing</td>\n",
              "            <td>U2</td>\n",
              "        </tr>\n",
              "    </tbody>\n",
              "</table>"
            ]
          },
          "metadata": {},
          "execution_count": 10
        }
      ]
    },
    {
      "cell_type": "markdown",
      "metadata": {
        "id": "0mmLXQXr7LlG"
      },
      "source": [
        "## Задание 3\n",
        "Для каждой компании вывести общее количество купленных джазовых композиций (если 0, можно не выводить).\n"
      ]
    },
    {
      "cell_type": "code",
      "metadata": {
        "id": "9kcvxk8OCrby",
        "colab": {
          "base_uri": "https://localhost:8080/",
          "height": 246
        },
        "outputId": "96c3333d-515e-4285-d5f8-ae2f36ab5d3d"
      },
      "source": [
        "%%sql\n",
        "-- COUNT(invoices.CustomerId) - Подсчет всех счетов\n",
        "SELECT Company, count(invoice_items.quantity) AS JazzCount FROM customers\n",
        "JOIN invoices ON invoices.CustomerId = customers.CustomerId -- Объединяем айди пользователей в таблицах invoices и customers\n",
        "JOIN invoice_items ON invoices.InvoiceId = invoice_items.InvoiceId -- Объединяем айди счета в таблицах invoices и invoice_items\n",
        "JOIN tracks ON tracks.TrackId = invoice_items.TrackId -- Объединяем айди треков в таблицах tracks и invoice_items\n",
        "JOIN  genres ON genres.genreId = tracks.genreid\n",
        "-- Где поле компания не пустое и где жанр трека Джаз\n",
        "WHERE Company IS NOT NULL AND genres.name = 'Jazz'\n",
        "GROUP BY Company"
      ],
      "execution_count": null,
      "outputs": [
        {
          "output_type": "stream",
          "name": "stdout",
          "text": [
            " * sqlite:///store.db\n",
            "Done.\n"
          ]
        },
        {
          "output_type": "execute_result",
          "data": {
            "text/plain": [
              "[('Apple Inc.', 2),\n",
              " ('BMW', 1),\n",
              " ('Google Inc.', 12),\n",
              " ('JetBrains s.r.o.', 3),\n",
              " ('Microsoft Corporation', 15),\n",
              " ('Oracle', 3),\n",
              " ('SAP', 1),\n",
              " ('Telus', 2)]"
            ],
            "text/html": [
              "<table>\n",
              "    <thead>\n",
              "        <tr>\n",
              "            <th>Company</th>\n",
              "            <th>JazzCount</th>\n",
              "        </tr>\n",
              "    </thead>\n",
              "    <tbody>\n",
              "        <tr>\n",
              "            <td>Apple Inc.</td>\n",
              "            <td>2</td>\n",
              "        </tr>\n",
              "        <tr>\n",
              "            <td>BMW</td>\n",
              "            <td>1</td>\n",
              "        </tr>\n",
              "        <tr>\n",
              "            <td>Google Inc.</td>\n",
              "            <td>12</td>\n",
              "        </tr>\n",
              "        <tr>\n",
              "            <td>JetBrains s.r.o.</td>\n",
              "            <td>3</td>\n",
              "        </tr>\n",
              "        <tr>\n",
              "            <td>Microsoft Corporation</td>\n",
              "            <td>15</td>\n",
              "        </tr>\n",
              "        <tr>\n",
              "            <td>Oracle</td>\n",
              "            <td>3</td>\n",
              "        </tr>\n",
              "        <tr>\n",
              "            <td>SAP</td>\n",
              "            <td>1</td>\n",
              "        </tr>\n",
              "        <tr>\n",
              "            <td>Telus</td>\n",
              "            <td>2</td>\n",
              "        </tr>\n",
              "    </tbody>\n",
              "</table>"
            ]
          },
          "metadata": {},
          "execution_count": 11
        }
      ]
    },
    {
      "cell_type": "markdown",
      "metadata": {
        "id": "M2JDkqnT7LlG"
      },
      "source": [
        "## Задание 4\n",
        "Вывести топ 3 плейлиста по продолжительности (продолжительность плейлиста = сумма длин треков в нём). Только название и продолжительность (в часах).\n"
      ]
    },
    {
      "cell_type": "code",
      "metadata": {
        "id": "isEzp0r0Crzy",
        "colab": {
          "base_uri": "https://localhost:8080/",
          "height": 139
        },
        "outputId": "e770fde7-08b2-4887-cc4d-6dbb1e29a579"
      },
      "source": [
        "%%sql\n",
        "SELECT  playlists.Name AS PlaylistName, SUM(tracks.Milliseconds)/1000/60/60 AS Duration_hours FROM playlist_track\n",
        "JOIN tracks ON tracks.TrackId = playlist_track.TrackId\n",
        "JOIN playlists ON playlist_track.playlistId = playlists.playlistId\n",
        "GROUP BY PlaylistName\n",
        "ORDER BY Duration_hours DESC\n",
        "LIMIT 3"
      ],
      "execution_count": null,
      "outputs": [
        {
          "output_type": "stream",
          "name": "stdout",
          "text": [
            " * sqlite:///store.db\n",
            "Done.\n"
          ]
        },
        {
          "output_type": "execute_result",
          "data": {
            "text/plain": [
              "[('Hidden Gems', 138), ('From That TV Show', 138), ('90’s Music', 10)]"
            ],
            "text/html": [
              "<table>\n",
              "    <thead>\n",
              "        <tr>\n",
              "            <th>PlaylistName</th>\n",
              "            <th>Duration_hours</th>\n",
              "        </tr>\n",
              "    </thead>\n",
              "    <tbody>\n",
              "        <tr>\n",
              "            <td>Hidden Gems</td>\n",
              "            <td>138</td>\n",
              "        </tr>\n",
              "        <tr>\n",
              "            <td>From That TV Show</td>\n",
              "            <td>138</td>\n",
              "        </tr>\n",
              "        <tr>\n",
              "            <td>90’s Music</td>\n",
              "            <td>10</td>\n",
              "        </tr>\n",
              "    </tbody>\n",
              "</table>"
            ]
          },
          "metadata": {},
          "execution_count": 98
        }
      ]
    },
    {
      "cell_type": "markdown",
      "metadata": {
        "id": "Ni7Mi7ur7LlH"
      },
      "source": [
        "## Задание 5\n",
        "Для каждого набора (жанр, тип медиа) вывести количество треков в них, причем вывести только те наборы, для которых **все** треки стоят больше 1$ и для которых в наборе есть хотя бы один трек."
      ]
    },
    {
      "cell_type": "code",
      "source": [
        "%%sql\n",
        "SELECT g.Name AS Genre, m.Name AS MediaType, COUNT(t.Name) AS COUNT\n",
        "FROM tracks t\n",
        "JOIN genres g, media_types m ON t.GenreId = g.GenreId AND t.mediaTypeId = m.mediaTypeId\n",
        "GROUP BY g.Name, m.Name HAVING COUNT(t.TrackId) > 0 AND MIN(t.UnitPrice) > 1"
      ],
      "metadata": {
        "id": "Y-psouvxm9vF",
        "colab": {
          "base_uri": "https://localhost:8080/",
          "height": 182
        },
        "outputId": "7c78135d-985f-4b6a-fe59-ab20c23f0fc9"
      },
      "execution_count": null,
      "outputs": [
        {
          "output_type": "stream",
          "name": "stdout",
          "text": [
            " * sqlite:///store.db\n",
            "Done.\n"
          ]
        },
        {
          "output_type": "execute_result",
          "data": {
            "text/plain": [
              "[('Blues', 'AAC audio file', 9),\n",
              " ('Comedy', 'MPEG audio file', 17),\n",
              " ('Sci Fi & Fantasy', 'MPEG audio file', 26),\n",
              " ('Science Fiction', 'MPEG audio file', 13),\n",
              " ('TV Shows', 'MPEG audio file', 93)]"
            ],
            "text/html": [
              "<table>\n",
              "    <thead>\n",
              "        <tr>\n",
              "            <th>Genre</th>\n",
              "            <th>MediaType</th>\n",
              "            <th>COUNT</th>\n",
              "        </tr>\n",
              "    </thead>\n",
              "    <tbody>\n",
              "        <tr>\n",
              "            <td>Blues</td>\n",
              "            <td>AAC audio file</td>\n",
              "            <td>9</td>\n",
              "        </tr>\n",
              "        <tr>\n",
              "            <td>Comedy</td>\n",
              "            <td>MPEG audio file</td>\n",
              "            <td>17</td>\n",
              "        </tr>\n",
              "        <tr>\n",
              "            <td>Sci Fi &amp; Fantasy</td>\n",
              "            <td>MPEG audio file</td>\n",
              "            <td>26</td>\n",
              "        </tr>\n",
              "        <tr>\n",
              "            <td>Science Fiction</td>\n",
              "            <td>MPEG audio file</td>\n",
              "            <td>13</td>\n",
              "        </tr>\n",
              "        <tr>\n",
              "            <td>TV Shows</td>\n",
              "            <td>MPEG audio file</td>\n",
              "            <td>93</td>\n",
              "        </tr>\n",
              "    </tbody>\n",
              "</table>"
            ]
          },
          "metadata": {},
          "execution_count": 106
        }
      ]
    }
  ]
}